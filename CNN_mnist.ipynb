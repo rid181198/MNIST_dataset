{
 "cells": [
  {
   "cell_type": "markdown",
   "metadata": {},
   "source": [
    "# CNN\n",
    "\n",
    "In this exercise you will code a CNN with Keras and test it on the well-known MNIST dataset."
   ]
  },
  {
   "cell_type": "code",
   "execution_count": 1,
   "metadata": {},
   "outputs": [],
   "source": [
    "# First import all important libraries for the network class\n",
    "import numpy as np\n",
    "# Import TensorFlow\n",
    "import tensorflow as tf\n",
    "# Import matplotlib so we can look at the data\n",
    "import matplotlib.pyplot as plt\n",
    "import matplotlib.cm as cm\n",
    "%matplotlib inline"
   ]
  },
  {
   "cell_type": "code",
   "execution_count": 2,
   "metadata": {},
   "outputs": [
    {
     "name": "stdout",
     "output_type": "stream",
     "text": [
      "Using TensorFlow 2.4.1 with 0 GPUs\n"
     ]
    }
   ],
   "source": [
    "print('Using TensorFlow {:s} with {:d} GPUs'.format(tf.__version__,len(tf.config.experimental.list_physical_devices('GPU'))))"
   ]
  },
  {
   "cell_type": "markdown",
   "metadata": {},
   "source": [
    "### Get the MNIST data"
   ]
  },
  {
   "cell_type": "code",
   "execution_count": 3,
   "metadata": {},
   "outputs": [],
   "source": [
    "# Get the MNIST dataset from scikit learn\n",
    "# Make sure you upgrade sklearn to version 0.20 (or higher)\n",
    "from sklearn.datasets import fetch_openml\n",
    "mnist = fetch_openml('mnist_784', version=1, cache=True)\n",
    "# Define the features and the labels\n",
    "X, y = mnist['data'], np.asfarray(mnist['target'])"
   ]
  },
  {
   "cell_type": "code",
   "execution_count": 4,
   "metadata": {},
   "outputs": [
    {
     "data": {
      "text/plain": [
       "5.0"
      ]
     },
     "execution_count": 4,
     "metadata": {},
     "output_type": "execute_result"
    },
    {
     "data": {
      "image/png": "[encoded data removed]",
      "text/plain": [
       "<Figure size 432x288 with 1 Axes>"
      ]
     },
     "metadata": {
      "needs_background": "light"
     },
     "output_type": "display_data"
    }
   ],
   "source": [
    "# Define some index, get the corresponding image, and plot it\n",
    "some_index = 0\n",
    "some_digit = X[some_index]\n",
    "some_digit_image = some_digit.reshape(28,28)\n",
    "plt.imshow(some_digit_image, cmap=cm.jet, interpolation='nearest')\n",
    "plt.axis('off')\n",
    "# Check the label\n",
    "y[some_index]"
   ]
  },
  {
   "cell_type": "code",
   "execution_count": 35,
   "metadata": {},
   "outputs": [],
   "source": [
    "shuffle_index = np.random.permutation(X.shape[0])\n",
    "X, y = X[shuffle_index], y[shuffle_index]\n",
    "# Define the training and test set\n",
    "X_train, X_test, y_train, y_test = X[:60000], X[60000:], y[:60000], y[60000:]\n",
    "# Shuffle the training set to make sure training goes smooth\n",
    "shuffle_index = np.random.permutation(60000)\n",
    "X_train, y_train = X_train[shuffle_index], y_train[shuffle_index]\n",
    "#Normalise\n",
    "X_train_sca = X_train.copy()/255.*0.99+0.01\n",
    "X_test_sca  = X_test.copy() /255.*0.99+0.01"
   ]
  },
  {
   "cell_type": "markdown",
   "metadata": {},
   "source": [
    "### Design a CNN with Keras\n",
    "\n",
    "Follow the LeNet-5 architecture with Convolutional and Average Pooling Layers.\n",
    "Add regularization.\n",
    "What activation function do you use in the network? Which one for the output layer?"
   ]
  },
  {
   "cell_type": "code",
   "execution_count": 41,
   "metadata": {},
   "outputs": [
    {
     "name": "stdout",
     "output_type": "stream",
     "text": [
      "Model: \"sequential\"\n",
      "_________________________________________________________________\n",
      "Layer (type)                 Output Shape              Param #   \n",
      "=================================================================\n",
      "conv2d (Conv2D)              (None, 28, 28, 6)         156       \n",
      "_________________________________________________________________\n",
      "average_pooling2d (AveragePo (None, 14, 14, 6)         0         \n",
      "_________________________________________________________________\n",
      "activation (Activation)      (None, 14, 14, 6)         0         \n",
      "_________________________________________________________________\n",
      "conv2d_1 (Conv2D)            (None, 10, 10, 16)        2416      \n",
      "_________________________________________________________________\n",
      "average_pooling2d_1 (Average (None, 5, 5, 16)          0         \n",
      "_________________________________________________________________\n",
      "activation_1 (Activation)    (None, 5, 5, 16)          0         \n",
      "_________________________________________________________________\n",
      "conv2d_2 (Conv2D)            (None, 1, 1, 120)         48120     \n",
      "_________________________________________________________________\n",
      "dropout (Dropout)            (None, 1, 1, 120)         0         \n",
      "_________________________________________________________________\n",
      "flatten (Flatten)            (None, 120)               0         \n",
      "_________________________________________________________________\n",
      "dense (Dense)                (None, 84)                10164     \n",
      "_________________________________________________________________\n",
      "dropout_1 (Dropout)          (None, 84)                0         \n",
      "_________________________________________________________________\n",
      "dense_1 (Dense)              (None, 10)                850       \n",
      "=================================================================\n",
      "Total params: 61,706\n",
      "Trainable params: 61,706\n",
      "Non-trainable params: 0\n",
      "_________________________________________________________________\n"
     ]
    }
   ],
   "source": [
    "# Free up RAM in case the model definition cells were run multiple times\n",
    "tf.keras.backend.clear_session()\n",
    "\n",
    "cnn = tf.keras.models.Sequential()\n",
    "cnn.add(tf.keras.layers.Conv2D(6, kernel_size=5, strides=1, padding=\"same\", activation='relu', input_shape=(28,28,1)))\n",
    "cnn.add(tf.keras.layers.AveragePooling2D(pool_size=2, strides=2))\n",
    "cnn.add(tf.keras.layers.Activation('relu'))\n",
    "cnn.add(tf.keras.layers.Conv2D(16, kernel_size=5, strides=1, activation='relu', padding=\"valid\"))\n",
    "cnn.add(tf.keras.layers.AveragePooling2D(pool_size=2, strides=2))\n",
    "cnn.add(tf.keras.layers.Activation('relu'))\n",
    "cnn.add(tf.keras.layers.Conv2D(120, kernel_size=5, strides=1, activation='relu', padding=\"valid\"))\n",
    "cnn.add(tf.keras.layers.Dropout(rate=0.2, seed=42))\n",
    "cnn.add(tf.keras.layers.Flatten())\n",
    "cnn.add(tf.keras.layers.Dense(84, activation='relu'))\n",
    "cnn.add(tf.keras.layers.Dropout(rate=0.2, seed=42))\n",
    "cnn.add(tf.keras.layers.Dense(10, activation='softmax'))\n",
    "cnn.summary()"
   ]
  },
  {
   "cell_type": "markdown",
   "metadata": {},
   "source": [
    "Compile the model. Use different loss functions and optimizers, including different HPs, like the learning rate."
   ]
  },
  {
   "cell_type": "code",
   "execution_count": 42,
   "metadata": {},
   "outputs": [],
   "source": [
    "sgd  = tf.keras.optimizers.SGD(lr=0.05)\n",
    "adam = tf.keras.optimizers.Adam(lr=0.01)\n",
    "cnn.compile(loss='categorical_crossentropy', optimizer=adam, metrics=['accuracy'])"
   ]
  },
  {
   "cell_type": "code",
   "execution_count": 43,
   "metadata": {},
   "outputs": [
    {
     "name": "stdout",
     "output_type": "stream",
     "text": [
      "(60000,) (60000, 10)\n"
     ]
    }
   ],
   "source": [
    "# Transform label into array of categories using one-hot encoding\n",
    "y_train_cat = tf.keras.utils.to_categorical(y_train, 10)\n",
    "y_test_cat  = tf.keras.utils.to_categorical(y_test,  10)\n",
    "print(y_train.shape, y_train_cat.shape)"
   ]
  },
  {
   "cell_type": "code",
   "execution_count": 44,
   "metadata": {},
   "outputs": [
    {
     "name": "stdout",
     "output_type": "stream",
     "text": [
      "(60000, 784) (60000, 28, 28, 1) (10000, 28, 28, 1)\n"
     ]
    }
   ],
   "source": [
    "#Reshape the data into 2D data (or 3D with 1 color channel)\n",
    "X_train_2d = X_train_sca.reshape(X_train_sca.shape[0],28,28,1)\n",
    "X_test_2d  = X_test_sca.reshape(X_test_sca.shape[0],28,28,1)\n",
    "print(X_train_sca.shape, X_train_2d.shape, X_test_2d.shape)"
   ]
  },
  {
   "cell_type": "code",
   "execution_count": 45,
   "metadata": {},
   "outputs": [
    {
     "name": "stdout",
     "output_type": "stream",
     "text": [
      "Epoch 1/5\n",
      "600/600 [==============================] - 13s 20ms/step - loss: 0.4157 - accuracy: 0.8657 - val_loss: 0.0690 - val_accuracy: 0.9800\n",
      "Epoch 2/5\n",
      "600/600 [==============================] - 12s 20ms/step - loss: 0.0834 - accuracy: 0.9774 - val_loss: 0.0617 - val_accuracy: 0.9820\n",
      "Epoch 3/5\n",
      "600/600 [==============================] - 12s 20ms/step - loss: 0.0666 - accuracy: 0.9812 - val_loss: 0.0499 - val_accuracy: 0.9862\n",
      "Epoch 4/5\n",
      "600/600 [==============================] - 12s 20ms/step - loss: 0.0593 - accuracy: 0.9836 - val_loss: 0.0535 - val_accuracy: 0.9848\n",
      "Epoch 5/5\n",
      "600/600 [==============================] - 12s 21ms/step - loss: 0.0607 - accuracy: 0.9839 - val_loss: 0.0570 - val_accuracy: 0.9862\n"
     ]
    },
    {
     "data": {
      "text/plain": [
       "<tensorflow.python.keras.callbacks.History at 0x7fadd1537a10>"
      ]
     },
     "execution_count": 45,
     "metadata": {},
     "output_type": "execute_result"
    }
   ],
   "source": [
    "#Fit the model\n",
    "cnn.fit(X_train_2d, y_train_cat, epochs=5, batch_size=100, verbose=1, validation_data=(X_test_2d,y_test_cat))"
   ]
  },
  {
   "cell_type": "code",
   "execution_count": 32,
   "metadata": {},
   "outputs": [
    {
     "name": "stdout",
     "output_type": "stream",
     "text": [
      "313/313 [==============================] - 2s 5ms/step - loss: 0.0698 - accuracy: 0.9769\n",
      "0.9768999814987183\n"
     ]
    }
   ],
   "source": [
    "#Evaluate model and compute the score\n",
    "score = cnn.evaluate(X_test_2d, y_test_cat,verbose=1)\n",
    "print(score[1])"
   ]
  },
  {
   "cell_type": "code",
   "execution_count": 47,
   "metadata": {},
   "outputs": [],
   "source": [
    "# Compute the network prediction for the test sample\n",
    "network_output  = cnn.predict(X_test_2d)\n",
    "#y_test_cat_pred  = cnn.predict(X_test_2d)"
   ]
  },
  {
   "cell_type": "code",
   "execution_count": 63,
   "metadata": {},
   "outputs": [
    {
     "name": "stdout",
     "output_type": "stream",
     "text": [
      "True label: 3  - Predicted label: 8\n"
     ]
    },
    {
     "data": {
      "image/png": "[encoded data removed]",
      "text/plain": [
       "<Figure size 432x288 with 1 Axes>"
      ]
     },
     "metadata": {
      "needs_background": "light"
     },
     "output_type": "display_data"
    }
   ],
   "source": [
    "# Let's check the predictions for some examples\n",
    "# Define some index, get the corresponding label\n",
    "some_index = 203\n",
    "target_label = np.int64(y_test[some_index])\n",
    "# Query the network for the predicted label\n",
    "predicted_label = np.argmax(network_output[some_index])\n",
    "print('True label:',target_label,' - Predicted label:',predicted_label)\n",
    "plt.imshow(X_test_2d[some_index].reshape(28,28))\n",
    "plt.show()"
   ]
  },
  {
   "cell_type": "code",
   "execution_count": 62,
   "metadata": {},
   "outputs": [
    {
     "name": "stdout",
     "output_type": "stream",
     "text": [
      "76 0\n",
      "77 4\n",
      "78 6\n",
      "79 6\n",
      "80 5\n",
      "81 9\n",
      "82 1\n",
      "83 6\n",
      "84 3\n",
      "85 4\n",
      "86 5\n",
      "87 1\n",
      "88 8\n",
      "89 3\n",
      "90 3\n",
      "91 1\n",
      "92 0\n",
      "93 6\n",
      "94 7\n",
      "95 3\n",
      "96 0\n",
      "97 1\n",
      "98 1\n",
      "99 3\n",
      "100 8\n",
      "101 9\n",
      "102 3\n",
      "103 9\n",
      "104 9\n",
      "105 3\n",
      "106 8\n",
      "107 0\n",
      "108 8\n",
      "109 8\n",
      "110 9\n",
      "111 8\n",
      "112 7\n",
      "113 2\n",
      "114 4\n",
      "115 8\n",
      "116 8\n",
      "117 5\n",
      "118 8\n",
      "119 8\n",
      "120 0\n",
      "121 0\n",
      "122 9\n",
      "123 1\n",
      "124 3\n",
      "125 7\n",
      "126 9\n",
      "127 0\n",
      "128 9\n",
      "129 8\n",
      "130 1\n",
      "131 6\n",
      "132 9\n",
      "133 4\n",
      "134 2\n",
      "135 3\n",
      "136 7\n",
      "137 2\n",
      "138 3\n",
      "139 7\n",
      "140 5\n",
      "141 7\n",
      "142 3\n",
      "143 3\n",
      "144 2\n",
      "145 2\n",
      "146 7\n",
      "147 4\n",
      "148 6\n",
      "149 7\n",
      "150 8\n",
      "151 8\n",
      "152 4\n",
      "153 9\n",
      "154 5\n",
      "155 8\n",
      "156 3\n",
      "157 6\n",
      "158 2\n",
      "159 7\n",
      "160 1\n",
      "161 5\n",
      "162 5\n",
      "163 1\n",
      "164 9\n",
      "165 1\n",
      "166 5\n",
      "167 1\n",
      "168 2\n",
      "169 1\n",
      "170 7\n",
      "171 4\n",
      "172 4\n",
      "173 0\n",
      "174 2\n",
      "175 2\n",
      "176 6\n",
      "177 5\n",
      "178 7\n",
      "179 1\n",
      "180 4\n",
      "181 7\n",
      "182 9\n",
      "183 9\n",
      "184 7\n",
      "185 4\n",
      "186 3\n",
      "187 5\n",
      "188 1\n",
      "189 3\n",
      "190 9\n",
      "191 2\n",
      "192 8\n",
      "193 3\n",
      "194 2\n",
      "195 7\n",
      "196 4\n",
      "197 7\n",
      "198 1\n",
      "199 1\n",
      "200 8\n",
      "201 9\n",
      "202 9\n"
     ]
    }
   ],
   "source": [
    "i = 76\n",
    "while (np.argmax(network_output[i]) == np.int64(y_test[i])):    \n",
    "    print(i,np.int64(y_test[i]))\n",
    "    i = i+1"
   ]
  },
  {
   "cell_type": "markdown",
   "metadata": {},
   "source": [
    "### Some more things to do\n",
    "\n",
    "Test if you can get a better performance. Some things to vary:\n",
    "\n",
    "* Change the network architecture, e.g. MaxPooling, more layers, etc...\n",
    "* Change the activation function. See: https://keras.io/activations/\n",
    "* Change the optimizer. See: https://keras.io/optimizers/\n",
    "* Change the loss function. See: https://keras.io/losses/\n",
    "* Change the number of epochs and the batch size"
   ]
  },
  {
   "cell_type": "code",
   "execution_count": null,
   "metadata": {},
   "outputs": [],
   "source": []
  }
 ],
 "metadata": {
  "kernelspec": {
   "display_name": "Python 3",
   "language": "python",
   "name": "python3"
  },
  "language_info": {
   "codemirror_mode": {
    "name": "ipython",
    "version": 3
   },
   "file_extension": ".py",
   "mimetype": "text/x-python",
   "name": "python",
   "nbconvert_exporter": "python",
   "pygments_lexer": "ipython3",
   "version": "3.7.4"
  },
  "toc": {
   "base_numbering": 1,
   "nav_menu": {},
   "number_sections": true,
   "sideBar": true,
   "skip_h1_title": false,
   "title_cell": "Table of Contents",
   "title_sidebar": "Contents",
   "toc_cell": false,
   "toc_position": {},
   "toc_section_display": true,
   "toc_window_display": false
  }
 },
 "nbformat": 4,
 "nbformat_minor": 1
}
